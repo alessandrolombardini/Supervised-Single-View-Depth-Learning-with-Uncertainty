{
 "cells": [
  {
   "cell_type": "code",
   "execution_count": 1,
   "metadata": {},
   "outputs": [],
   "source": [
    "from metrics import *\n",
    "import numpy as np\n",
    "import matplotlib.pyplot as plt\n",
    "\n",
    "import os    \n",
    "os.environ['KMP_DUPLICATE_LIB_OK'] = 'True'"
   ]
  },
  {
   "cell_type": "code",
   "execution_count": 5,
   "metadata": {},
   "outputs": [],
   "source": [
    "import torch"
   ]
  },
  {
   "cell_type": "code",
   "execution_count": 3,
   "metadata": {},
   "outputs": [
    {
     "name": "stdout",
     "output_type": "stream",
     "text": [
      "0.36785328795029826\n"
     ]
    }
   ],
   "source": [
    "image = np.ones((25, 25))\n",
    "\n",
    "noise = np.random.normal(loc=0, scale=0.1, size=(25, 25))  # Gaussian noise with mean 0 and standard deviation 0.1\n",
    "image_reconstructed_w_noise = {'mean': np.clip(image + noise, 0, 1),\n",
    "                               'var': noise}\n",
    "\n",
    "num_elems = image.size\n",
    "perc = 1/num_elems\n",
    "y = [perc * i  for i in range(num_elems)]\n",
    "  \n",
    "input_instance = image\n",
    "mean_result = image_reconstructed_w_noise['mean']\n",
    "var_result = image_reconstructed_w_noise['var']\n",
    "        \n",
    "# Compute sparsification curves for the predicted depth map\n",
    "def sparsification(error, uncertainty):\n",
    "    x, y = np.unravel_index(np.argsort(uncertainty, axis=None)[::-1], uncertainty.shape) # Descending order\n",
    "    return np.array([error[x][y] for x, y in zip(x, y)])\n",
    "\n",
    "error = np.abs(input_instance - mean_result) # RMSE -> ABS\n",
    "\n",
    "sparsification_prediction = sparsification(error, var_result)\n",
    "sparsification_oracle = sparsification(error, error)\n",
    "\n",
    "# Compute the means of the sparsification curves\n",
    "sparsification_errors_means = []\n",
    "sparsification_oracle_means = []\n",
    "sum_errors_means = np.sum(sparsification_prediction)\n",
    "sum_oracle_means = np.sum(sparsification_oracle)\n",
    "for i in range(num_elems):\n",
    "    sparsification_errors_means.append(sum_errors_means / (num_elems - i))\n",
    "    sparsification_oracle_means.append(sum_oracle_means / (num_elems - i))\n",
    "    sum_errors_means -= sparsification_prediction[i]\n",
    "    sum_oracle_means -= sparsification_oracle[i]\n",
    "\n",
    "# Compute the AUSE by integrating the absolute values of the error differences\n",
    "## Normalization of the sparsification curves\n",
    "sparsification_errors_means_normalized = (sparsification_errors_means - np.min(sparsification_errors_means)) / (np.max(sparsification_errors_means) - np.min(sparsification_errors_means))\n",
    "sparsification_oracle_means_normalized = (sparsification_oracle_means - np.min(sparsification_oracle_means)) / (np.max(sparsification_oracle_means) - np.min(sparsification_oracle_means))\n",
    "sparsification_errors = np.abs(np.array(sparsification_oracle_means_normalized) - \\\n",
    "                                np.array(sparsification_errors_means_normalized))\n",
    "ause = np.trapz(sparsification_errors, y)\n",
    "    \n"
   ]
  },
  {
   "cell_type": "code",
   "execution_count": 7,
   "metadata": {},
   "outputs": [
    {
     "data": {
      "text/plain": [
       "Text(0.5, 1.0, 'Prediction and oracle sparsification curves')"
      ]
     },
     "execution_count": 7,
     "metadata": {},
     "output_type": "execute_result"
    },
    {
     "data": {
      "image/png": "[encoded data removed]",
      "text/plain": [
       "<Figure size 432x288 with 1 Axes>"
      ]
     },
     "metadata": {
      "needs_background": "light"
     },
     "output_type": "display_data"
    }
   ],
   "source": [
    "# Plot the data\n",
    "plt.plot(y, sparsification_errors_means_normalized, label='Predicted')\n",
    "plt.plot(y, sparsification_oracle_means_normalized, label='Oracle')\n",
    "plt.legend(loc=\"upper left\")\n",
    "\n",
    "plt.xlabel('Percentage of sparsified elements')\n",
    "plt.ylabel('RMSE')\n",
    "plt.title('Prediction and oracle sparsification curves')"
   ]
  },
  {
   "cell_type": "code",
   "execution_count": null,
   "metadata": {},
   "outputs": [],
   "source": [
    "def compute_ause(input_batch, result_batch):\n",
    "    \"\"\"Compute the Area Under the Sparsification Error (AUSE).\"\"\"\n",
    "    input_batch = input_batch.cpu().numpy()\n",
    "    result_batch = {k: v.cpu().numpy() for k, v in result_batch.items()}\n",
    "    \n",
    "    auses = []\n",
    "\n",
    "    num_elems = input_batch[0][0].size\n",
    "    perc = 1/num_elems\n",
    "    y = [perc * i  for i in range(num_elems)]\n",
    "    for instance_id in range(input_batch.shape[0]):\n",
    "        input_instance = input_batch[instance_id][0]\n",
    "        mean_result = result_batch['mean'][instance_id][0]\n",
    "        var_result = result_batch['var'][instance_id][0]\n",
    "        # Compute sparsification curves for the predicted depth map\n",
    "        def sparsification(error, uncertainty):\n",
    "            x, y = np.unravel_index(np.argsort(uncertainty, axis=None)[::-1], uncertainty.shape) # Descending order\n",
    "            return np.array([error[x][y] for x, y in zip(x, y)])\n",
    "        error = np.abs(input_instance - mean_result) # RMSE -> ABS\n",
    "        sparsification_prediction = sparsification(error, var_result)\n",
    "        sparsification_oracle = sparsification(error, error)\n",
    "        # Compute the means of the sparsification curves\n",
    "        sparsification_errors_means = []\n",
    "        sparsification_oracle_means = []\n",
    "        sum_errors_means = np.sum(sparsification_prediction)\n",
    "        sum_oracle_means = np.sum(sparsification_oracle)\n",
    "        for i in range(num_elems):\n",
    "            sparsification_errors_means.append(sum_errors_means / (num_elems - i))\n",
    "            sparsification_oracle_means.append(sum_oracle_means / (num_elems - i))\n",
    "            sum_errors_means -= sparsification_prediction[i]\n",
    "            sum_oracle_means -= sparsification_oracle[i]\n",
    "        # Compute the AUSE by integrating the absolute values of the error differences\n",
    "        ## Normalization of the sparsification curves\n",
    "        sparsification_errors_means_normalized = (sum_errors_means - np.min(sum_errors_means)) / \\\n",
    "                                                 (np.max(sum_errors_means) - np.min(sum_errors_means))\n",
    "        sparsification_oracle_means_normalized = (sum_oracle_means - np.min(sum_oracle_means)) / \\\n",
    "                                                 (np.max(sum_oracle_means) - np.min(sum_oracle_means))\n",
    "        sparsification_errors = np.abs(np.array(sparsification_oracle_means_normalized) - \\\n",
    "                                       np.array(sparsification_errors_means_normalized))\n",
    "        auses.append(np.trapz(sparsification_errors, y))\n",
    "\n",
    "    return np.array(auses).mean()"
   ]
  },
  {
   "cell_type": "code",
   "execution_count": null,
   "metadata": {},
   "outputs": [],
   "source": []
  }
 ],
 "metadata": {
  "kernelspec": {
   "display_name": "Python 3",
   "language": "python",
   "name": "python3"
  },
  "language_info": {
   "codemirror_mode": {
    "name": "ipython",
    "version": 3
   },
   "file_extension": ".py",
   "mimetype": "text/x-python",
   "name": "python",
   "nbconvert_exporter": "python",
   "pygments_lexer": "ipython3",
   "version": "3.9.12"
  }
 },
 "nbformat": 4,
 "nbformat_minor": 2
}
